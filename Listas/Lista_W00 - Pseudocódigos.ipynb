{
 "cells": [
  {
   "cell_type": "markdown",
   "metadata": {},
   "source": [
    "Usando pseudocódigo (ou fluxogramas), escreva algoritmos para:\n",
    "\n",
    "1. Procurar uma palavra no dicionário.\n",
    "\n",
    "\n",
    "2. Multiplicar duas matrizes.\n",
    "\n",
    "\n",
    "3. Dada uma lista aleatória com $N$ números, achar o maior deles.\n",
    "\n",
    "\n",
    "4. Dada uma lista aleatória com $N$ números, ordenar a lista.\n",
    " \n",
    "  \n",
    "5. Dada uma lista aleatória com $N$ números, achar a mediana (ver a definição em https://pt.wikipedia.org/wiki/Mediana_(estat%C3%ADstica))."
   ]
  }
 ],
 "metadata": {
  "kernelspec": {
   "display_name": "Python 3",
   "language": "python",
   "name": "python3"
  },
  "language_info": {
   "codemirror_mode": {
    "name": "ipython",
    "version": 3
   },
   "file_extension": ".py",
   "mimetype": "text/x-python",
   "name": "python",
   "nbconvert_exporter": "python",
   "pygments_lexer": "ipython3",
   "version": "3.8.3"
  }
 },
 "nbformat": 4,
 "nbformat_minor": 4
}
